{
 "cells": [
  {
   "cell_type": "code",
   "execution_count": 1,
   "metadata": {},
   "outputs": [],
   "source": [
    "import pandas as pd\n",
    "import numpy as np"
   ]
  },
  {
   "cell_type": "code",
   "execution_count": 2,
   "metadata": {},
   "outputs": [],
   "source": [
    "def read_datas(file_path:str):\n",
    "    df = pd.read_csv(file_path)\n",
    "    return df\n",
    "\n",
    "def get_training_and_validation_datas(df: pd.DataFrame, training_size = 0.8):\n",
    "    data_size = df.shape[0]\n",
    "    indexes = [i for i in range(data_size)]\n",
    "    training_index = np.random.choice(indexes,int(data_size*training_size))\n",
    "    validation_index = [i for i in range(data_size) if not i in training_index]\n",
    "    training_input = [df['Text'].iloc[index] for index in training_index]\n",
    "    training_output = [df['Sentiment'].iloc[index] for index in training_index]\n",
    "    validation_input = [df['Text'].iloc[index] for index in validation_index]\n",
    "    validation_output = [df['Sentiment'].iloc[index] for index in validation_index]\n",
    "    return training_input, training_output, validation_input, validation_output\n",
    "\n",
    "def get_TP_TN_FP_FN(computed_output, ground_truth, positive_label):\n",
    "    TP, TN, FP, FN = 0, 0, 0, 0\n",
    "    for i in range(len(computed_output)):\n",
    "        if computed_output[i] == positive_label:\n",
    "            if ground_truth[i] == positive_label:\n",
    "                TP += 1\n",
    "            else:\n",
    "                FP += 1\n",
    "        else:\n",
    "            if ground_truth[i] == positive_label:\n",
    "                FN += 1\n",
    "            else:\n",
    "                TN += 1\n",
    "    return TP, TN, FP, FN\n",
    "\n",
    "def get_accuracy(TP, TN, FP, FN):\n",
    "    return (TP + TN) / (TP + TN + FP + FN)\n",
    "\n",
    "def get_precision(TP, TN, FP, FN):\n",
    "    if TP + FP == 0:\n",
    "        return 0  # Return zero precision when denominator is zero\n",
    "    else:\n",
    "        return TP / (TP + FP)\n",
    "\n",
    "\n",
    "def get_recall(TP, TN, FP, FN):\n",
    "    return TP/(TP+FN)"
   ]
  },
  {
   "cell_type": "code",
   "execution_count": 3,
   "metadata": {},
   "outputs": [],
   "source": [
    "from sklearn.feature_extraction.text import CountVectorizer\n",
    "\n",
    "#BAG OF WORDS\n",
    "def get_bags_of_words(training_input, validation_input):\n",
    "    vectorizer = CountVectorizer()\n",
    "    train_features = vectorizer.fit_transform(training_input)\n",
    "    validation_features = vectorizer.transform(validation_input)\n",
    "    return train_features, validation_features"
   ]
  },
  {
   "cell_type": "code",
   "execution_count": 4,
   "metadata": {},
   "outputs": [],
   "source": [
    "#TF-IDF\n",
    "from sklearn.feature_extraction.text import TfidfVectorizer\n",
    "def get_tf_idf(training_input, validation_input, max_feats=50):\n",
    "    vectorizer = TfidfVectorizer(max_features=max_feats)\n",
    "    train_features = vectorizer.fit_transform(training_input)\n",
    "    validation_features = vectorizer.transform(validation_input)\n",
    "    return train_features, validation_features"
   ]
  },
  {
   "cell_type": "code",
   "execution_count": 5,
   "metadata": {},
   "outputs": [
    {
     "name": "stdout",
     "output_type": "stream",
     "text": [
      "Accuracy: 0.3469387755102041\n",
      "Precision: 0.3469387755102041\n",
      "Recall: 1.0\n"
     ]
    }
   ],
   "source": [
    "from sklearn.cluster import KMeans\n",
    "\n",
    "def get_classifier(training_input, number_of_clusters:int):\n",
    "    unsupervisedClassifier = KMeans(n_clusters=number_of_clusters, random_state=0)\n",
    "    unsupervisedClassifier.fit(training_input)\n",
    "    return unsupervisedClassifier\n",
    "\n",
    "def test_classifier(classifier:KMeans,validation_input, validation_output, label_names,positive_label):\n",
    "    computedTestIndexes = classifier.predict(validation_input)\n",
    "    computed_outputs = [label_names[value] for value in computedTestIndexes]\n",
    "    TP, TN, FP, FN = get_TP_TN_FP_FN(computed_outputs,validation_output,positive_label)\n",
    "    accuracy = get_accuracy(TP, TN, FP, FN)\n",
    "    precision = get_precision(TP, TN, FP, FN)\n",
    "    recall = get_recall(TP, TN, FP, FN)\n",
    "    print(f\"Accuracy: {accuracy}\\nPrecision: {precision}\\nRecall: {recall}\")\n",
    "    \n",
    "dataframe = read_datas('reviews_mixed.csv')\n",
    "training_input,training_output,validation_input, validation_output = get_training_and_validation_datas(dataframe)\n",
    "test_feats, validation_feats = get_bags_of_words(training_input,validation_input)\n",
    "label_names = [name for name in set(training_output)]\n",
    "classifier = get_classifier(test_feats,len(label_names))\n",
    "test_classifier(classifier,validation_feats,validation_output,label_names,'positive')"
   ]
  }
 ],
 "metadata": {
  "kernelspec": {
   "display_name": "Python 3",
   "language": "python",
   "name": "python3"
  },
  "language_info": {
   "codemirror_mode": {
    "name": "ipython",
    "version": 3
   },
   "file_extension": ".py",
   "mimetype": "text/x-python",
   "name": "python",
   "nbconvert_exporter": "python",
   "pygments_lexer": "ipython3",
   "version": "3.10.13"
  }
 },
 "nbformat": 4,
 "nbformat_minor": 2
}
