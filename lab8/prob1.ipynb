{
 "cells": [
  {
   "cell_type": "code",
   "execution_count": 8,
   "metadata": {},
   "outputs": [
    {
     "name": "stdout",
     "output_type": "stream",
     "text": [
      "Taină mă îmbăt şi de scântei din\n",
      "Stele, când degerând atâtea dăţi, eu mă\n",
      "Dulci cuvinte, de astăzi nu-mi mai privi-o..\n",
      "Mergem împreună, sub acel farmec liniştit de\n"
     ]
    }
   ],
   "source": [
    "import random\n",
    "\n",
    "def citeste_text(nume_fisier):\n",
    "    with open(nume_fisier, 'r', encoding='utf-8') as f:\n",
    "        text = f.read()\n",
    "    return text\n",
    "\n",
    "def genereaza_lant_markov(text, n):\n",
    "    words = text.split()\n",
    "    markov_chain = {}\n",
    "    for i in range(len(words) - n):\n",
    "        prefix = tuple(words[i:i+n])\n",
    "        suffix = words[i+n]\n",
    "        if prefix in markov_chain:\n",
    "            markov_chain[prefix].append(suffix)\n",
    "        else:\n",
    "            markov_chain[prefix] = [suffix]\n",
    "    return markov_chain\n",
    "\n",
    "def genereaza_vers(markov_chain, n, lungime_vers):\n",
    "    prefix = random.choice(list(markov_chain.keys()))\n",
    "    vers_generat = list(prefix)\n",
    "    while len(vers_generat) < lungime_vers:\n",
    "        if prefix in markov_chain:\n",
    "            sufix_aleatoriu = random.choice(markov_chain[prefix])\n",
    "            vers_generat.append(sufix_aleatoriu)\n",
    "            prefix = tuple(vers_generat[-n:])\n",
    "        else:\n",
    "            break\n",
    "    return ' '.join(vers_generat)\n",
    "\n",
    "def genereaza_poezie(markov_chain, n, lungime_vers, numar_versuri):\n",
    "    poezie_generata = []\n",
    "    for _ in range(numar_versuri):\n",
    "        vers = genereaza_vers(markov_chain, n, lungime_vers)\n",
    "        poezie_generata.append(vers.capitalize()) \n",
    "    return '\\n'.join(poezie_generata)\n",
    "\n",
    "text = citeste_text('poezieRo.txt')\n",
    "\n",
    "# Generăm un lanț Markov cu starea de n cuvinte\n",
    "n_stari = 1\n",
    "lant_markov = genereaza_lant_markov(text, n_stari)\n",
    "\n",
    "# Specificăm lungimea și numărul de versuri pentru poezie\n",
    "lungime_vers = 7  # Lungimea în cuvinte a fiecărui vers\n",
    "numar_versuri = 4  # Numărul total de versuri în poezie\n",
    "\n",
    "# Generăm poezia folosind lanțul Markov\n",
    "poezie_generata = genereaza_poezie(lant_markov, n_stari, lungime_vers, numar_versuri)\n",
    "\n",
    "print(poezie_generata)\n"
   ]
  }
 ],
 "metadata": {
  "kernelspec": {
   "display_name": "Python 3",
   "language": "python",
   "name": "python3"
  },
  "language_info": {
   "codemirror_mode": {
    "name": "ipython",
    "version": 3
   },
   "file_extension": ".py",
   "mimetype": "text/x-python",
   "name": "python",
   "nbconvert_exporter": "python",
   "pygments_lexer": "ipython3",
   "version": "3.10.13"
  }
 },
 "nbformat": 4,
 "nbformat_minor": 2
}
